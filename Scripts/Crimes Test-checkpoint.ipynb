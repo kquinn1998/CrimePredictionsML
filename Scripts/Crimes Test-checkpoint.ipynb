{
 "cells": [
  {
   "cell_type": "code",
   "execution_count": 1,
   "metadata": {},
   "outputs": [],
   "source": [
    "import pandas as pd\n",
    "import seaborn as sns\n",
    "import matplotlib.pyplot as plt\n",
    "from sklearn.ensemble import RandomForestClassifier\n",
    "from sklearn.svm import SVC\n",
    "from sklearn import svm\n",
    "from sklearn.neural_network import MLPClassifier\n",
    "from sklearn.metrics import confusion_matrix, classification_report, accuracy_score\n",
    "from sklearn.preprocessing import StandardScaler, LabelEncoder\n",
    "from sklearn.model_selection import train_test_split\n",
    "%matplotlib inline"
   ]
  },
  {
   "cell_type": "code",
   "execution_count": 2,
   "metadata": {},
   "outputs": [],
   "source": [
    "wine = pd.read_csv('crimes2018.csv',sep=',',low_memory=False)\n",
    "wine = wine[:50000]\n",
    "wine = wine.drop('ID',axis = 1)\n",
    "wine = wine.drop('Case Number',axis = 1)\n",
    "wine = wine.drop('District',axis = 1)\n",
    "wine = wine.drop('Ward',axis = 1)\n",
    "wine = wine.drop('X Coordinate',axis = 1)\n",
    "wine = wine.drop('Y Coordinate',axis = 1)\n",
    "wine = wine.drop('Updated On',axis = 1)\n",
    "wine = wine.drop('Longitude',axis = 1)\n",
    "wine = wine.drop('Latitude',axis = 1)\n",
    "wine = wine.drop('Location',axis = 1)\n",
    "wine = wine.drop('Block',axis = 1)\n",
    "wine = wine.drop('IUCR',axis = 1)\n",
    "wine = wine.drop('Description',axis = 1)\n",
    "wine = wine.drop('Beat',axis = 1)\n",
    "wine = wine.drop('Community Area',axis = 1)\n",
    "wine = wine.drop('Primary Type',axis = 1)\n",
    "wine = wine.drop('Year',axis = 1)"
   ]
  },
  {
   "cell_type": "code",
   "execution_count": 3,
   "metadata": {},
   "outputs": [
    {
     "data": {
      "text/plain": [
       "Date                      0\n",
       "Location Description    358\n",
       "Arrest                    0\n",
       "Domestic                  0\n",
       "FBI Code                  0\n",
       "dtype: int64"
      ]
     },
     "execution_count": 3,
     "metadata": {},
     "output_type": "execute_result"
    }
   ],
   "source": [
    "wine.isnull().sum()"
   ]
  },
  {
   "cell_type": "code",
   "execution_count": 4,
   "metadata": {},
   "outputs": [],
   "source": [
    "wine = wine.dropna()"
   ]
  },
  {
   "cell_type": "code",
   "execution_count": 5,
   "metadata": {},
   "outputs": [
    {
     "data": {
      "text/plain": [
       "Date                    0\n",
       "Location Description    0\n",
       "Arrest                  0\n",
       "Domestic                0\n",
       "FBI Code                0\n",
       "dtype: int64"
      ]
     },
     "execution_count": 5,
     "metadata": {},
     "output_type": "execute_result"
    }
   ],
   "source": [
    "wine.isnull().sum()"
   ]
  },
  {
   "cell_type": "code",
   "execution_count": 6,
   "metadata": {},
   "outputs": [
    {
     "data": {
      "text/html": [
       "<div>\n",
       "<style scoped>\n",
       "    .dataframe tbody tr th:only-of-type {\n",
       "        vertical-align: middle;\n",
       "    }\n",
       "\n",
       "    .dataframe tbody tr th {\n",
       "        vertical-align: top;\n",
       "    }\n",
       "\n",
       "    .dataframe thead th {\n",
       "        text-align: right;\n",
       "    }\n",
       "</style>\n",
       "<table border=\"1\" class=\"dataframe\">\n",
       "  <thead>\n",
       "    <tr style=\"text-align: right;\">\n",
       "      <th></th>\n",
       "      <th>Date</th>\n",
       "      <th>Location Description</th>\n",
       "      <th>Arrest</th>\n",
       "      <th>Domestic</th>\n",
       "      <th>FBI Code</th>\n",
       "    </tr>\n",
       "  </thead>\n",
       "  <tbody>\n",
       "    <tr>\n",
       "      <td>0</td>\n",
       "      <td>09/01/2018 12:00:00 AM</td>\n",
       "      <td>APARTMENT</td>\n",
       "      <td>False</td>\n",
       "      <td>True</td>\n",
       "      <td>17</td>\n",
       "    </tr>\n",
       "    <tr>\n",
       "      <td>1</td>\n",
       "      <td>06/10/2018 11:00:00 PM</td>\n",
       "      <td>APARTMENT</td>\n",
       "      <td>False</td>\n",
       "      <td>False</td>\n",
       "      <td>02</td>\n",
       "    </tr>\n",
       "    <tr>\n",
       "      <td>2</td>\n",
       "      <td>05/12/2018 12:43:00 PM</td>\n",
       "      <td>APARTMENT</td>\n",
       "      <td>False</td>\n",
       "      <td>False</td>\n",
       "      <td>05</td>\n",
       "    </tr>\n",
       "    <tr>\n",
       "      <td>3</td>\n",
       "      <td>01/28/2018 04:10:00 PM</td>\n",
       "      <td>CHA APARTMENT</td>\n",
       "      <td>True</td>\n",
       "      <td>False</td>\n",
       "      <td>02</td>\n",
       "    </tr>\n",
       "    <tr>\n",
       "      <td>4</td>\n",
       "      <td>12/24/2018 11:30:00 PM</td>\n",
       "      <td>CTA TRAIN</td>\n",
       "      <td>False</td>\n",
       "      <td>False</td>\n",
       "      <td>06</td>\n",
       "    </tr>\n",
       "  </tbody>\n",
       "</table>\n",
       "</div>"
      ],
      "text/plain": [
       "                     Date Location Description  Arrest  Domestic FBI Code\n",
       "0  09/01/2018 12:00:00 AM            APARTMENT   False      True       17\n",
       "1  06/10/2018 11:00:00 PM            APARTMENT   False     False       02\n",
       "2  05/12/2018 12:43:00 PM            APARTMENT   False     False       05\n",
       "3  01/28/2018 04:10:00 PM        CHA APARTMENT    True     False       02\n",
       "4  12/24/2018 11:30:00 PM            CTA TRAIN   False     False       06"
      ]
     },
     "execution_count": 6,
     "metadata": {},
     "output_type": "execute_result"
    }
   ],
   "source": [
    "wine.head()"
   ]
  },
  {
   "cell_type": "code",
   "execution_count": 7,
   "metadata": {},
   "outputs": [
    {
     "name": "stdout",
     "output_type": "stream",
     "text": [
      "['APARTMENT' 'CHA APARTMENT' 'CTA TRAIN' 'RESIDENCE' 'BANK'\n",
      " 'VEHICLE NON-COMMERCIAL' 'STREET' 'OTHER' 'BAR OR TAVERN'\n",
      " 'PARKING LOT/GARAGE(NON.RESID.)' 'SIDEWALK' 'BARBERSHOP'\n",
      " 'POLICE FACILITY/VEH PARKING LOT' 'COMMERCIAL / BUSINESS OFFICE'\n",
      " 'CURRENCY EXCHANGE' 'AIRPORT TERMINAL UPPER LEVEL - NON-SECURE AREA'\n",
      " 'HOSPITAL BUILDING/GROUNDS' 'DEPARTMENT STORE' 'AUTO' 'PARK PROPERTY'\n",
      " 'HOTEL/MOTEL' 'RESTAURANT' 'ATHLETIC CLUB' 'ALLEY'\n",
      " 'NURSING HOME/RETIREMENT HOME' 'SMALL RETAIL STORE' 'RESIDENCE-GARAGE'\n",
      " 'VEHICLE - OTHER RIDE SHARE SERVICE (E.G., UBER, LYFT)'\n",
      " 'SCHOOL, PUBLIC, BUILDING' 'CHURCH/SYNAGOGUE/PLACE OF WORSHIP'\n",
      " 'AUTO / BOAT / RV DEALERSHIP' 'MOVIE HOUSE/THEATER' 'CTA PLATFORM'\n",
      " 'CEMETARY' 'SCHOOL, PRIVATE, BUILDING' 'GAS STATION'\n",
      " 'RESIDENCE PORCH/HALLWAY' 'GOVERNMENT BUILDING/PROPERTY'\n",
      " 'VACANT LOT/LAND' 'GROCERY FOOD STORE' 'RESIDENTIAL YARD (FRONT/BACK)'\n",
      " 'TAVERN/LIQUOR STORE' 'CTA STATION' 'WAREHOUSE'\n",
      " 'AIRPORT BUILDING NON-TERMINAL - NON-SECURE AREA'\n",
      " 'SCHOOL, PUBLIC, GROUNDS' 'OTHER RAILROAD PROP / TRAIN DEPOT'\n",
      " 'AIRPORT/AIRCRAFT' 'MEDICAL/DENTAL OFFICE' 'CONVENIENCE STORE' 'TAXICAB'\n",
      " 'ABANDONED BUILDING' 'CTA BUS STOP' 'ATM (AUTOMATIC TELLER MACHINE)'\n",
      " 'AIRPORT TERMINAL UPPER LEVEL - SECURE AREA' 'POOL ROOM'\n",
      " 'AIRPORT VENDING ESTABLISHMENT' 'DAY CARE CENTER' 'VEHICLE-COMMERCIAL'\n",
      " 'DRUG STORE' 'CHA HALLWAY/STAIRWELL/ELEVATOR'\n",
      " 'AIRPORT TERMINAL LOWER LEVEL - NON-SECURE AREA' 'CTA BUS'\n",
      " 'CONSTRUCTION SITE' 'FACTORY/MANUFACTURING BUILDING'\n",
      " 'CTA GARAGE / OTHER PROPERTY' 'COLLEGE/UNIVERSITY GROUNDS' 'CAR WASH'\n",
      " 'JAIL / LOCK-UP FACILITY' 'AIRCRAFT' 'LIBRARY' 'DRIVEWAY - RESIDENTIAL'\n",
      " 'AIRPORT BUILDING NON-TERMINAL - SECURE AREA' 'VEHICLE - DELIVERY TRUCK'\n",
      " 'AIRPORT EXTERIOR - SECURE AREA'\n",
      " 'AIRPORT TERMINAL LOWER LEVEL - SECURE AREA'\n",
      " 'LAKEFRONT/WATERFRONT/RIVERBANK' 'AIRPORT PARKING LOT'\n",
      " 'AIRPORT EXTERIOR - NON-SECURE AREA' 'SCHOOL, PRIVATE, GROUNDS'\n",
      " 'SPORTS ARENA/STADIUM' 'AIRPORT TRANSPORTATION SYSTEM (ATS)'\n",
      " 'AIRPORT TERMINAL MEZZANINE - NON-SECURE AREA' 'APPLIANCE STORE'\n",
      " 'OTHER COMMERCIAL TRANSPORTATION' 'COIN OPERATED MACHINE'\n",
      " 'ANIMAL HOSPITAL' 'CREDIT UNION' 'SAVINGS AND LOAN' 'HIGHWAY/EXPRESSWAY'\n",
      " 'CHA PARKING LOT/GROUNDS' 'CLEANING STORE' 'PAWN SHOP' 'BRIDGE'\n",
      " 'COLLEGE/UNIVERSITY RESIDENCE HALL' 'FOREST PRESERVE' 'FEDERAL BUILDING'\n",
      " 'NEWSSTAND' 'BOWLING ALLEY' 'VEHICLE-COMMERCIAL - TROLLEY BUS'\n",
      " 'FIRE STATION' 'CTA TRACKS - RIGHT OF WAY']\n"
     ]
    }
   ],
   "source": [
    "print(wine['Location Description'].unique());"
   ]
  },
  {
   "cell_type": "markdown",
   "metadata": {},
   "source": [
    "for index, row in wine.iterrows():\n",
    "    if('AIRPORT' in row['Location Description']):\n",
    "        wine.loc[index, 'Location Description'] = 'AIRPORT';\n",
    "    elif('SCHOOL' in row['Location Description']):\n",
    "        wine.loc[index, 'Location Description'] = 'SCHOOL';\n",
    "    elif('COLLEGE/UNIVERSITY' in row['Location Description']):\n",
    "        wine.loc[index, 'Location Description'] = 'SCHOOL';\n",
    "    elif('RESIDENTIAL' in row['Location Description']):\n",
    "        wine.loc[index, 'Location Description'] = 'RESIDENTIAL';\n",
    "    elif('APARTMENT' in row['Location Description']):\n",
    "        wine.loc[index, 'Location Description'] = 'RESIDENTIAL';\n",
    "    elif('RESIDENCE' in row['Location Description']):\n",
    "        wine.loc[index, 'Location Description'] = 'RESIDENTIAL';\n",
    "    elif('CHA' in row['Location Description']):\n",
    "        wine.loc[index, 'Location Description'] = 'RESIDENTIAL';\n",
    "    elif('STORE' in row['Location Description']):\n",
    "        wine.loc[index, 'Location Description'] = 'COMMERCIAL';\n",
    "    elif('BAR' in row['Location Description']):\n",
    "        wine.loc[index, 'Location Description'] = 'COMMERCIAL';\n",
    "    elif('BARBERSHOP' in row['Location Description']):\n",
    "        wine.loc[index, 'Location Description'] = 'COMMERCIAL';\n",
    "    elif('BOWLING' in row['Location Description']):\n",
    "        wine.loc[index, 'Location Description'] = 'COMMERCIAL';\n",
    "    elif('CAR WASH' in row['Location Description']):\n",
    "        wine.loc[index, 'Location Description'] = 'COMMERCIAL';\n",
    "    elif('WORSHIP' in row['Location Description']):\n",
    "        wine.loc[index, 'Location Description'] = 'COMMERCIAL';\n",
    "    elif('COIN' in row['Location Description']):\n",
    "        wine.loc[index, 'Location Description'] = 'COMMERCIAL';\n",
    "    elif('CREDIT' in row['Location Description']):\n",
    "        wine.loc[index, 'Location Description'] = 'COMMERCIAL';\n",
    "    elif('CURRENCY' in row['Location Description']):\n",
    "        wine.loc[index, 'Location Description'] = 'COMMERCIAL';\n",
    "    elif('DAY CARE' in row['Location Description']):\n",
    "        wine.loc[index, 'Location Description'] = 'COMMERCIAL';\n",
    "    elif('GAS STATION' in row['Location Description']):\n",
    "        wine.loc[index, 'Location Description'] = 'COMMERCIAL';\n",
    "    elif('HOTEL/MOTEL' in row['Location Description']):\n",
    "        wine.loc[index, 'Location Description'] = 'COMMERCIAL';\n",
    "    elif('LIBRARY' in row['Location Description']):\n",
    "        wine.loc[index, 'Location Description'] = 'COMMERCIAL';\n",
    "    elif('MOVIE' in row['Location Description']):\n",
    "        wine.loc[index, 'Location Description'] = 'COMMERCIAL';\n",
    "    elif('SHOP' in row['Location Description']):\n",
    "        wine.loc[index, 'Location Description'] = 'COMMERCIAL';\n",
    "    elif('POOL ROOM' in row['Location Description']):\n",
    "        wine.loc[index, 'Location Description'] = 'COMMERCIAL';\n",
    "    elif('RESTAURANT' in row['Location Description']):\n",
    "        wine.loc[index, 'Location Description'] = 'COMMERCIAL';\n",
    "    elif('SAVINGS' in row['Location Description']):\n",
    "        wine.loc[index, 'Location Description'] = 'COMMERCIAL';\n",
    "    elif('SPORTS' in row['Location Description']):\n",
    "        wine.loc[index, 'Location Description'] = 'COMMERCIAL';\n",
    "    elif('DEALERSHIP' in row['Location Description']):\n",
    "        wine.loc[index, 'Location Description'] = 'COMMERCIAL';\n",
    "    elif('BANK' in row['Location Description']):\n",
    "        wine.loc[index, 'Location Description'] = 'COMMERCIAL';\n",
    "    elif('CTA' in row['Location Description']):\n",
    "        wine.loc[index, 'Location Description'] = 'TRANSPORT';\n",
    "    elif('TRANSPORTATION' in row['Location Description']):\n",
    "        wine.loc[index, 'Location Description'] = 'TRANSPORT';\n",
    "    elif('RAILROAD' in row['Location Description']):\n",
    "        wine.loc[index, 'Location Description'] = 'TRANSPORT';\n",
    "    elif('PARKING' in row['Location Description']):\n",
    "        wine.loc[index, 'Location Description'] = 'TRANSPORT';\n",
    "    elif('TAXICAB' in row['Location Description']):\n",
    "        wine.loc[index, 'Location Description'] = 'TRANSPORT';\n",
    "    elif('VEHICLE' in row['Location Description']):\n",
    "        wine.loc[index, 'Location Description'] = 'TRANSPORT';\n",
    "    elif('CONSTRUCTION' in row['Location Description']):\n",
    "        wine.loc[index, 'Location Description'] = 'INDUSTRIAL';\n",
    "    elif('FACTORY/MANUFACTURING' in row['Location Description']):\n",
    "        wine.loc[index, 'Location Description'] = 'INDUSTRIAL';\n",
    "    elif('WAREHOUSE' in row['Location Description']):\n",
    "        wine.loc[index, 'Location Description'] = 'INDUSTRIAL';\n",
    "    elif('ABANDONED' in row['Location Description']):\n",
    "        wine.loc[index, 'Location Description'] = 'INDUSTRIAL';\n",
    "    elif('HOSPITAL' in row['Location Description']):\n",
    "        wine.loc[index, 'Location Description'] = 'GOVERNMENT';\n",
    "    elif('CEMETARY' in row['Location Description']):\n",
    "        wine.loc[index, 'Location Description'] = 'GOVERNMENT';\n",
    "    elif('FEDERAL' in row['Location Description']):\n",
    "        wine.loc[index, 'Location Description'] = 'GOVERNMENT';\n",
    "    elif('FIRE' in row['Location Description']):\n",
    "        wine.loc[index, 'Location Description'] = 'GOVERNMENT';\n",
    "    elif('POLICE' in row['Location Description']):\n",
    "        wine.loc[index, 'Location Description'] = 'GOVERNMENT';\n",
    "    elif('JAIL' in row['Location Description']):\n",
    "        wine.loc[index, 'Location Description'] = 'GOVERNMENT';\n",
    "    elif('GOVERNMENT' in row['Location Description']):\n",
    "        wine.loc[index, 'Location Description'] = 'GOVERNMENT';\n",
    "    elif('MEDICAL/DENTAL' in row['Location Description']):\n",
    "        wine.loc[index, 'Location Description'] = 'GOVERNMENT';\n",
    "    elif('NURSING' in row['Location Description']):\n",
    "        wine.loc[index, 'Location Description'] = 'GOVERNMENT';\n",
    "    elif('NURSING' in row['Location Description']):\n",
    "        wine.loc[index, 'Location Description'] = 'GOVERNMENT';\n",
    "    else:\n",
    "        wine.loc[index, 'Location Description'] = 'OTHER';\n",
    "         "
   ]
  },
  {
   "cell_type": "code",
   "execution_count": 8,
   "metadata": {},
   "outputs": [],
   "source": [
    "Dict = {};\n",
    "\n",
    "Dict = {'APARTMENT': 'RESIDENTIAL',\n",
    "        'CHA APARTMENT': 'RESIDENTIAL',\n",
    "        'CTA TRAIN': 'TRANSPORT',\n",
    "        'RESIDENCE': 'RESIDENTIAL',\n",
    "        'BANK': 'COMMERCIAL',\n",
    "        'VEHICLE NON-COMMERCIAL': 'TRANSPORT',\n",
    "        'STREET': 'TRANSPORT',\n",
    "        'OTHER': 'OTHER',\n",
    "        'BAR OR TAVERN': 'COMMERCIAL',\n",
    "        'PARKING LOT/GARAGE(NON.RESID.)': 'TRANSPORT',\n",
    "        'SIDEWALK': 'OTHER',\n",
    "        'BARBERSHOP': 'COMMERCIAL',\n",
    "        'POLICE FACILITY/VEH PARKING LOT': 'GOVERNMENT',\n",
    "        'COMMERCIAL / BUSINESS OFFICE': 'COMMERCIAL',\n",
    "        'CURRENCY EXCHANGE': 'COMMERCIAL',\n",
    "        'AIRPORT TERMINAL UPPER LEVEL - NON-SECURE AREA': 'AIRPORT',\n",
    "        'HOSPITAL BUILDING/GROUNDS': 'GOVERNMENT',\n",
    "        'DEPARTMENT STORE': 'COMMERCIAL',\n",
    "        'AUTO': 'COMMERCIAL',\n",
    "        'PARK PROPERTY': 'OTHER',\n",
    "        'HOTEL/MOTEL': 'COMMERCIAL',\n",
    "        'RESTAURANT': 'COMMERCIAL',\n",
    "        'ATHLETIC CLUB': 'COMMERCIAL',\n",
    "        'ALLEY': 'OTHER',\n",
    "        'NURSING HOME/RETIREMENT HOME': 'RESIDENTIAL',\n",
    "        'SMALL RETAIL STORE': 'COMMERCIAL',\n",
    "        'RESIDENCE-GARAGE': 'RESIDENTIAL',\n",
    "        'VEHICLE - OTHER RIDE SHARE SERVICE (E.G., UBER, LYFT)': 'TRANSPORT',\n",
    "        'SCHOOL, PUBLIC, BUILDING': 'EDUCATION',\n",
    "        'CHURCH/SYNAGOGUE/PLACE OF WORSHIP': 'OTHER',\n",
    "        'AUTO / BOAT / RV DEALERSHIP': 'COMMERCIAL',\n",
    "        'MOVIE HOUSE/THEATER': 'COMMERCIAL',\n",
    "        'CTA PLATFORM': 'TRANSPORT',\n",
    "        'CEMETARY': 'OTHER',\n",
    "        'SCHOOL, PRIVATE, BUILDING': 'EDUCATION',\n",
    "        'GAS STATION': 'COMMERCIAL',\n",
    "        'RESIDENCE PORCH/HALLWAY': 'RESIDENTIAL',\n",
    "        'GOVERNMENT BUILDING/PROPERTY': 'GOVERNMENT',\n",
    "        'VACANT LOT/LAND': 'OTHER',\n",
    "        'GROCERY FOOD STORE' : 'COMMERCIAL',\n",
    "        'RESIDENTIAL YARD (FRONT/BACK)': 'RESIDENTIAL',\n",
    "        'TAVERN/LIQUOR STORE': 'COMMERCIAL',\n",
    "        'CTA STATION' : 'TRANSPORT',\n",
    "        'WAREHOUSE': 'COMMERCIAL',\n",
    "        'AIRPORT BUILDING NON-TERMINAL - NON-SECURE AREA': 'AIRPORT',\n",
    "        'SCHOOL, PUBLIC, GROUNDS': 'EDUCATION',\n",
    "        'OTHER RAILROAD PROP / TRAIN DEPOT': 'TRANSPORT',\n",
    "        'AIRPORT/AIRCRAFT': 'AIRPORT',\n",
    "        'MEDICAL/DENTAL OFFICE': 'COMMERCIAL',\n",
    "        'CONVENIENCE STORE': 'COMMERCIAL',\n",
    "        'TAXICAB': 'TRANSPORT',\n",
    "        'ABANDONED BUILDING': 'OTHER',\n",
    "        'CTA BUS STOP': 'TRANSPORT',\n",
    "        'ATM (AUTOMATIC TELLER MACHINE)': 'COMMERCIAL',\n",
    "        'AIRPORT TERMINAL UPPER LEVEL - SECURE AREA' : 'AIRPORT',\n",
    "        'POOL ROOM': 'RESIDENTIAL',\n",
    "        'AIRPORT VENDING ESTABLISHMENT': 'AIRPORT',\n",
    "        'DAY CARE CENTER': 'COMMERCIAL',\n",
    "        'VEHICLE-COMMERCIAL': 'COMMERCIAL',\n",
    "        'DRUG STORE': 'COMMERCIAL',\n",
    "        'CHA HALLWAY/STAIRWELL/ELEVATOR': 'GOVERNMENT',\n",
    "        'AIRPORT TERMINAL LOWER LEVEL - NON-SECURE AREA': 'AIRPORT',\n",
    "        'CTA BUS': 'TRANSPORT',\n",
    "        'CONSTRUCTION SITE': 'COMMERCIAL',\n",
    "        'FACTORY/MANUFACTURING BUILDING': 'COMMERCIAL',\n",
    "        'CTA GARAGE / OTHER PROPERTY': 'TRANSPORT', \n",
    "        'COLLEGE/UNIVERSITY GROUNDS': 'EDUCATION',\n",
    "        'CAR WASH': 'COMMERCIAL',\n",
    "        'JAIL / LOCK-UP FACILITY' : 'GOVERNMENT',\n",
    "        'AIRCRAFT': 'AIRPORT',\n",
    "        'LIBRARY' : 'COMMERCIAL',\n",
    "        'DRIVEWAY - RESIDENTIAL': 'RESIDENTIAL',\n",
    "        'AIRPORT BUILDING NON-TERMINAL - SECURE AREA': 'AIRPORT',\n",
    "        'VEHICLE - DELIVERY TRUCK': 'TRANSPORT',\n",
    "        'AIRPORT EXTERIOR - SECURE AREA': 'AIRPORT',\n",
    "        'AIRPORT TERMINAL LOWER LEVEL - SECURE AREA': 'AIRPORT',\n",
    "        'LAKEFRONT/WATERFRONT/RIVERBANK': 'OTHER',\n",
    "        'AIRPORT PARKING LOT': 'AIRPORT',\n",
    "        'AIRPORT EXTERIOR - NON-SECURE AREA': 'AIRPORT',\n",
    "        'SCHOOL, PRIVATE, GROUNDS': 'EDUCATION',\n",
    "        'SPORTS ARENA/STADIUM': 'COMMERCIAL',\n",
    "        'AIRPORT TRANSPORTATION SYSTEM (ATS)': 'AIRPORT',\n",
    "        'AIRPORT TERMINAL MEZZANINE - NON-SECURE AREA': 'AIRPORT',\n",
    "        'APPLIANCE STORE': 'COMMERCIAL',\n",
    "        'OTHER COMMERCIAL TRANSPORTATION': 'TRANSPORT',\n",
    "        'COIN OPERATED MACHINE': 'COMMERCIAL',\n",
    "        'ANIMAL HOSPITAL': 'GOVERNMENT',\n",
    "        'CREDIT UNION': 'COMMERCIAL',\n",
    "        'SAVINGS AND LOAN': 'COMMERCIAL',\n",
    "        'HIGHWAY/EXPRESSWAY': 'TRANSPORT',\n",
    "        'CHA PARKING LOT/GROUNDS': 'GOVERNMENT',\n",
    "        'CLEANING STORE': 'COMMERCIAL', \n",
    "        'PAWN SHOP': 'COMMERCIAL',\n",
    "        'BRIDGE': 'TRANSPORT',\n",
    "        'COLLEGE/UNIVERSITY RESIDENCE HALL': 'EDUCATION',\n",
    "        'FOREST PRESERVE': 'OTHER',\n",
    "        'FEDERAL BUILDING': 'GOVERNMENT',\n",
    "        'NEWSSTAND': 'COMMERCIAL',\n",
    "        'BOWLING ALLEY': 'COMMERCIAL',\n",
    "        'VEHICLE-COMMERCIAL - TROLLEY BUS': 'TRANSPORT',\n",
    "        'FIRE STATION': 'GOVERNMENT',\n",
    "        'CTA TRACKS - RIGHT OF WAY' : 'TRANSPORT',\n",
    "        'BOAT/WATERCRAFT': 'TRANSPORT',\n",
    "        'VEHICLE-COMMERCIAL - ENTERTAINMENT/PARTY BUS': 'COMMERCIAL',\n",
    "        'HORSE STABLE': 'RESIDENTIAL',\n",
    "        'FARM': 'RESIDENTIAL',\n",
    "        'KENNEL': 'COMMERCIAL',\n",
    "        'PARKING LOT': 'TRANSPORT',\n",
    "        'HOUSE': 'RESIDENTIAL',\n",
    "        'CTA PROPERTY' : 'TRANSPORT',\n",
    "        'RETAIL STORE': 'COMMERCIAL',\n",
    "        'HOTEL': 'COMMERCIAL',\n",
    "        'PORCH': 'OTHER',\n",
    "        'VACANT LOT' : 'TRANSPORT',\n",
    "        'YMCA': 'COMMERCIAL',\n",
    "        'GOVERNMENT BUILDING': 'GOVERNMENT',\n",
    "        'DRIVEWAY': 'TRANSPORT',\n",
    "        'GARAGE/AUTO REPAIR': 'COMMERCIAL',\n",
    "        'HALLWAY': 'RESIDENTIAL',\n",
    "        'YARD': 'RESIDENTIAL',\n",
    "        'CHA GROUNDS' : 'GOVERNMENT',\n",
    "        'GARAGE': 'TRANSPORT',\n",
    "        'LIQUOR STORE': 'COMMERCIAL',\n",
    "        'RIVER BANK': 'OTHER',\n",
    "        'GAS STATION DRIVE/PROP.'\n",
    "        'WOODED AREA': 'OTHER',\n",
    "        'OFFICE': 'COMMERCIAL',\n",
    "        'BARBER SHOP/BEAUTY SALON': 'COMMERCIAL',\n",
    "        'STAIRWELL': 'OTHER',\n",
    "        'HOSPITAL': 'GOVERNMENT',\n",
    "        'CHA PARKING LOT' : 'GOVERNMENT',\n",
    "        'GANGWAY': 'OTHER'}\n",
    "\n",
    "for index, row in wine.iterrows():\n",
    "    #print(row['Location Description']);\n",
    "    #print(Dict[wine.loc[index, 'Location Description']]);\n",
    "   wine.loc[index, 'Location Description'] = Dict[wine.loc[index, 'Location Description']];\n",
    "\n",
    "        \n"
   ]
  },
  {
   "cell_type": "code",
   "execution_count": 9,
   "metadata": {},
   "outputs": [],
   "source": [
    "#Encoder to convert string values\n",
    "le = LabelEncoder()"
   ]
  },
  {
   "cell_type": "code",
   "execution_count": 10,
   "metadata": {},
   "outputs": [
    {
     "name": "stdout",
     "output_type": "stream",
     "text": [
      "<class 'pandas.core.frame.DataFrame'>\n",
      "Int64Index: 49642 entries, 0 to 49999\n",
      "Data columns (total 5 columns):\n",
      "Date                    49642 non-null object\n",
      "Location Description    49642 non-null object\n",
      "Arrest                  49642 non-null bool\n",
      "Domestic                49642 non-null bool\n",
      "FBI Code                49642 non-null object\n",
      "dtypes: bool(2), object(3)\n",
      "memory usage: 2.9+ MB\n"
     ]
    }
   ],
   "source": [
    "wine.info()"
   ]
  },
  {
   "cell_type": "code",
   "execution_count": 11,
   "metadata": {},
   "outputs": [
    {
     "data": {
      "text/html": [
       "<div>\n",
       "<style scoped>\n",
       "    .dataframe tbody tr th:only-of-type {\n",
       "        vertical-align: middle;\n",
       "    }\n",
       "\n",
       "    .dataframe tbody tr th {\n",
       "        vertical-align: top;\n",
       "    }\n",
       "\n",
       "    .dataframe thead th {\n",
       "        text-align: right;\n",
       "    }\n",
       "</style>\n",
       "<table border=\"1\" class=\"dataframe\">\n",
       "  <thead>\n",
       "    <tr style=\"text-align: right;\">\n",
       "      <th></th>\n",
       "      <th>Date</th>\n",
       "      <th>Arrest</th>\n",
       "      <th>Domestic</th>\n",
       "      <th>FBI Code</th>\n",
       "    </tr>\n",
       "  </thead>\n",
       "  <tbody>\n",
       "    <tr>\n",
       "      <td>0</td>\n",
       "      <td>23757</td>\n",
       "      <td>0</td>\n",
       "      <td>1</td>\n",
       "      <td>19</td>\n",
       "    </tr>\n",
       "    <tr>\n",
       "      <td>1</td>\n",
       "      <td>22711</td>\n",
       "      <td>0</td>\n",
       "      <td>0</td>\n",
       "      <td>2</td>\n",
       "    </tr>\n",
       "    <tr>\n",
       "      <td>2</td>\n",
       "      <td>22465</td>\n",
       "      <td>0</td>\n",
       "      <td>0</td>\n",
       "      <td>6</td>\n",
       "    </tr>\n",
       "    <tr>\n",
       "      <td>3</td>\n",
       "      <td>8292</td>\n",
       "      <td>1</td>\n",
       "      <td>0</td>\n",
       "      <td>2</td>\n",
       "    </tr>\n",
       "    <tr>\n",
       "      <td>4</td>\n",
       "      <td>25608</td>\n",
       "      <td>0</td>\n",
       "      <td>0</td>\n",
       "      <td>7</td>\n",
       "    </tr>\n",
       "  </tbody>\n",
       "</table>\n",
       "</div>"
      ],
      "text/plain": [
       "    Date  Arrest  Domestic  FBI Code\n",
       "0  23757       0         1        19\n",
       "1  22711       0         0         2\n",
       "2  22465       0         0         6\n",
       "3   8292       1         0         2\n",
       "4  25608       0         0         7"
      ]
     },
     "execution_count": 11,
     "metadata": {},
     "output_type": "execute_result"
    }
   ],
   "source": [
    "X = wine.drop('Location Description', axis = 1)\n",
    "y = wine['Location Description']\n",
    "def dummyEncode(df):\n",
    "          columnsToEncode = list(df.select_dtypes(include=['category','object','bool']))\n",
    "          le = LabelEncoder()\n",
    "          for feature in columnsToEncode:\n",
    "              try:\n",
    "                  df[feature] = le.fit_transform(df[feature])\n",
    "              except:\n",
    "                  print('Error encoding '+feature)\n",
    "          return df\n",
    "    \n",
    "X = dummyEncode(X)\n",
    "X.head()"
   ]
  },
  {
   "cell_type": "code",
   "execution_count": 12,
   "metadata": {},
   "outputs": [],
   "source": [
    "X_train, X_test, y_train, y_test = train_test_split(X, y, test_size = 0.2, random_state = 42)"
   ]
  },
  {
   "cell_type": "code",
   "execution_count": 13,
   "metadata": {},
   "outputs": [],
   "source": [
    "sc = StandardScaler()\n",
    "X_train = sc.fit_transform(X_train)\n",
    "X_test = sc.transform(X_test)"
   ]
  },
  {
   "cell_type": "code",
   "execution_count": 14,
   "metadata": {},
   "outputs": [
    {
     "data": {
      "text/plain": [
       "array([[-0.80588886,  1.87713504, -0.43920951, -0.42832798],\n",
       "       [ 1.34786069,  1.87713504, -0.43920951, -0.74128567],\n",
       "       [ 0.05384237, -0.53272672,  2.27681776, -0.42832798],\n",
       "       [-0.38690148, -0.53272672,  2.27681776, -0.74128567],\n",
       "       [ 1.12566403, -0.53272672, -0.43920951,  0.82350277],\n",
       "       [ 1.27894182, -0.53272672, -0.43920951, -0.74128567],\n",
       "       [ 0.52406271, -0.53272672, -0.43920951, -0.74128567],\n",
       "       [ 1.69891176, -0.53272672, -0.43920951,  0.66702393],\n",
       "       [ 0.15251846,  1.87713504, -0.43920951,  2.07533353],\n",
       "       [ 0.67523505, -0.53272672, -0.43920951, -0.74128567]])"
      ]
     },
     "execution_count": 14,
     "metadata": {},
     "output_type": "execute_result"
    }
   ],
   "source": [
    "X_train[:10]"
   ]
  },
  {
   "cell_type": "code",
   "execution_count": 15,
   "metadata": {},
   "outputs": [],
   "source": [
    "#Neural Network\n",
    "mlpc = MLPClassifier(hidden_layer_sizes = (11,11,11), max_iter = 1000)\n",
    "mlpc.fit(X_train, y_train)\n",
    "pred_mlpc = mlpc.predict(X_test)\n",
    "\n",
    "#mlpc = RandomForestClassifier(n_estimators = 1000, random_state = 42)\n",
    "#mlpc.fit(X_train, y_train)\n",
    "#pred_mlpc = mlpc.predict(X_test)"
   ]
  },
  {
   "cell_type": "code",
   "execution_count": 16,
   "metadata": {
    "scrolled": false
   },
   "outputs": [
    {
     "name": "stderr",
     "output_type": "stream",
     "text": [
      "C:\\Users\\kevin\\Anaconda3\\lib\\site-packages\\sklearn\\metrics\\classification.py:1437: UndefinedMetricWarning: Precision and F-score are ill-defined and being set to 0.0 in labels with no predicted samples.\n",
      "  'precision', 'predicted', average, warn_for)\n"
     ]
    },
    {
     "name": "stdout",
     "output_type": "stream",
     "text": [
      "              precision    recall  f1-score   support\n",
      "\n",
      "     AIRPORT       0.00      0.00      0.00        63\n",
      "  COMMERCIAL       0.73      0.14      0.24      1670\n",
      "   EDUCATION       0.00      0.00      0.00       249\n",
      "  GOVERNMENT       0.00      0.00      0.00       168\n",
      "       OTHER       0.32      0.09      0.14      1281\n",
      " RESIDENTIAL       0.55      0.74      0.63      3648\n",
      "   TRANSPORT       0.45      0.70      0.55      2850\n",
      "\n",
      "    accuracy                           0.51      9929\n",
      "   macro avg       0.29      0.24      0.22      9929\n",
      "weighted avg       0.50      0.51      0.45      9929\n",
      "\n",
      "[[   0    2    0    0    0   19   42]\n",
      " [   0  235    0    0   36  599  800]\n",
      " [   0    3    0    0    6  166   74]\n",
      " [   0    5    0    0    7   84   72]\n",
      " [   0   22    0    0  111  574  574]\n",
      " [   0   41    0    0   79 2691  837]\n",
      " [   0   14    0    0  110  740 1986]]\n",
      "0.5058918320072515\n"
     ]
    },
    {
     "data": {
      "text/plain": [
       "<matplotlib.axes._subplots.AxesSubplot at 0x2ea94695e08>"
      ]
     },
     "execution_count": 16,
     "metadata": {},
     "output_type": "execute_result"
    },
    {
     "data": {
      "image/png": "[encoded data removed]",
      "text/plain": [
       "<Figure size 432x288 with 1 Axes>"
      ]
     },
     "metadata": {
      "needs_background": "light"
     },
     "output_type": "display_data"
    }
   ],
   "source": [
    "#Lets see how our model preformed\n",
    "print(classification_report(y_test, pred_mlpc)) #Shows accuracy of model\n",
    "print(confusion_matrix(y_test, pred_mlpc))\n",
    "print(accuracy_score(y_test, pred_mlpc))\n",
    "sns.countplot(pred_mlpc)"
   ]
  },
  {
   "cell_type": "code",
   "execution_count": 17,
   "metadata": {},
   "outputs": [],
   "source": [
    "import pickle"
   ]
  },
  {
   "cell_type": "code",
   "execution_count": 18,
   "metadata": {},
   "outputs": [],
   "source": [
    "filename = \"model.sav\"\n",
    "pickle.dump(mlpc, open(filename, 'wb'))"
   ]
  },
  {
   "cell_type": "code",
   "execution_count": 19,
   "metadata": {},
   "outputs": [],
   "source": [
    "loaded_model = pickle.load(open(filename, 'rb'))"
   ]
  },
  {
   "cell_type": "code",
   "execution_count": 20,
   "metadata": {},
   "outputs": [
    {
     "name": "stdout",
     "output_type": "stream",
     "text": [
      "0.5058918320072515\n"
     ]
    }
   ],
   "source": [
    "print(loaded_model.score(X_test,y_test))"
   ]
  },
  {
   "cell_type": "code",
   "execution_count": 28,
   "metadata": {},
   "outputs": [
    {
     "name": "stdout",
     "output_type": "stream",
     "text": [
      "['TRANSPORT']\n"
     ]
    }
   ],
   "source": [
    "Xnew = [[\"25/12/2018 11:00:00 PM\", False, False, \"90\"]]\n",
    "le = LabelEncoder()\n",
    "\n",
    "df=pd.DataFrame(Xnew, columns=['Date',\n",
    "                               'Arrest', \n",
    "                               'Domestic',\n",
    "                               'FBI Code'])\n",
    "\n",
    "df = dummyEncode(df)\n",
    "\n",
    "df = sc.transform(df)\n",
    "\n",
    "pred_xnew = mlpc.predict(df)\n",
    "\n",
    "print(pred_xnew)"
   ]
  }
 ],
 "metadata": {
  "kernelspec": {
   "display_name": "Python 3",
   "language": "python",
   "name": "python3"
  },
  "language_info": {
   "codemirror_mode": {
    "name": "ipython",
    "version": 3
   },
   "file_extension": ".py",
   "mimetype": "text/x-python",
   "name": "python",
   "nbconvert_exporter": "python",
   "pygments_lexer": "ipython3",
   "version": "3.7.4"
  }
 },
 "nbformat": 4,
 "nbformat_minor": 2
}