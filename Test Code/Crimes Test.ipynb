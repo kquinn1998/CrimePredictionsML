{
 "cells": [
  {
   "cell_type": "code",
   "execution_count": 1,
   "metadata": {},
   "outputs": [],
   "source": [
    "import pandas as pd\n",
    "import seaborn as sns\n",
    "import matplotlib.pyplot as plt\n",
    "from sklearn.ensemble import RandomForestClassifier\n",
    "from sklearn.svm import SVC\n",
    "from sklearn import svm\n",
    "from sklearn.neural_network import MLPClassifier\n",
    "from sklearn.metrics import confusion_matrix, classification_report, accuracy_score\n",
    "from sklearn.preprocessing import StandardScaler, LabelEncoder\n",
    "from sklearn.model_selection import train_test_split\n",
    "%matplotlib inline"
   ]
  },
  {
   "cell_type": "code",
   "execution_count": 2,
   "metadata": {},
   "outputs": [],
   "source": [
    "wine = pd.read_csv('crimes2018.csv',sep=',',low_memory=False)\n",
    "wine = wine[:40000]\n",
    "wine = wine.drop('ID',axis = 1)\n",
    "wine = wine.drop('Case Number',axis = 1)\n",
    "wine = wine.drop('District',axis = 1)\n",
    "wine = wine.drop('Ward',axis = 1)\n",
    "wine = wine.drop('X Coordinate',axis = 1)\n",
    "wine = wine.drop('Y Coordinate',axis = 1)\n",
    "wine = wine.drop('Updated On',axis = 1)\n",
    "wine = wine.drop('Longitude',axis = 1)\n",
    "wine = wine.drop('Latitude',axis = 1)\n",
    "wine = wine.drop('Location',axis = 1)"
   ]
  },
  {
   "cell_type": "code",
   "execution_count": 3,
   "metadata": {},
   "outputs": [
    {
     "data": {
      "text/plain": [
       "Date                      0\n",
       "Block                     0\n",
       "IUCR                      0\n",
       "Primary Type              0\n",
       "Description               0\n",
       "Location Description    332\n",
       "Arrest                    0\n",
       "Domestic                  0\n",
       "Beat                      0\n",
       "Community Area            0\n",
       "FBI Code                  0\n",
       "Year                      0\n",
       "dtype: int64"
      ]
     },
     "execution_count": 3,
     "metadata": {},
     "output_type": "execute_result"
    }
   ],
   "source": [
    "wine.isnull().sum()"
   ]
  },
  {
   "cell_type": "code",
   "execution_count": 4,
   "metadata": {},
   "outputs": [],
   "source": [
    "wine = wine.dropna()"
   ]
  },
  {
   "cell_type": "code",
   "execution_count": 5,
   "metadata": {},
   "outputs": [
    {
     "data": {
      "text/plain": [
       "Date                    0\n",
       "Block                   0\n",
       "IUCR                    0\n",
       "Primary Type            0\n",
       "Description             0\n",
       "Location Description    0\n",
       "Arrest                  0\n",
       "Domestic                0\n",
       "Beat                    0\n",
       "Community Area          0\n",
       "FBI Code                0\n",
       "Year                    0\n",
       "dtype: int64"
      ]
     },
     "execution_count": 5,
     "metadata": {},
     "output_type": "execute_result"
    }
   ],
   "source": [
    "wine.isnull().sum()"
   ]
  },
  {
   "cell_type": "code",
   "execution_count": 6,
   "metadata": {},
   "outputs": [
    {
     "data": {
      "text/html": [
       "<div>\n",
       "<style scoped>\n",
       "    .dataframe tbody tr th:only-of-type {\n",
       "        vertical-align: middle;\n",
       "    }\n",
       "\n",
       "    .dataframe tbody tr th {\n",
       "        vertical-align: top;\n",
       "    }\n",
       "\n",
       "    .dataframe thead th {\n",
       "        text-align: right;\n",
       "    }\n",
       "</style>\n",
       "<table border=\"1\" class=\"dataframe\">\n",
       "  <thead>\n",
       "    <tr style=\"text-align: right;\">\n",
       "      <th></th>\n",
       "      <th>Date</th>\n",
       "      <th>Block</th>\n",
       "      <th>IUCR</th>\n",
       "      <th>Primary Type</th>\n",
       "      <th>Description</th>\n",
       "      <th>Location Description</th>\n",
       "      <th>Arrest</th>\n",
       "      <th>Domestic</th>\n",
       "      <th>Beat</th>\n",
       "      <th>Community Area</th>\n",
       "      <th>FBI Code</th>\n",
       "      <th>Year</th>\n",
       "    </tr>\n",
       "  </thead>\n",
       "  <tbody>\n",
       "    <tr>\n",
       "      <td>0</td>\n",
       "      <td>09/01/2018 12:00:00 AM</td>\n",
       "      <td>110XX S WENTWORTH AVE</td>\n",
       "      <td>1751</td>\n",
       "      <td>OFFENSE INVOLVING CHILDREN</td>\n",
       "      <td>CRIM SEX ABUSE BY FAM MEMBER</td>\n",
       "      <td>APARTMENT</td>\n",
       "      <td>False</td>\n",
       "      <td>True</td>\n",
       "      <td>513</td>\n",
       "      <td>49.0</td>\n",
       "      <td>17</td>\n",
       "      <td>2018</td>\n",
       "    </tr>\n",
       "    <tr>\n",
       "      <td>1</td>\n",
       "      <td>06/10/2018 11:00:00 PM</td>\n",
       "      <td>053XX S CALUMET AVE</td>\n",
       "      <td>0281</td>\n",
       "      <td>CRIM SEXUAL ASSAULT</td>\n",
       "      <td>NON-AGGRAVATED</td>\n",
       "      <td>APARTMENT</td>\n",
       "      <td>False</td>\n",
       "      <td>False</td>\n",
       "      <td>231</td>\n",
       "      <td>40.0</td>\n",
       "      <td>02</td>\n",
       "      <td>2018</td>\n",
       "    </tr>\n",
       "    <tr>\n",
       "      <td>2</td>\n",
       "      <td>05/12/2018 12:43:00 PM</td>\n",
       "      <td>008XX N HOYNE AVE</td>\n",
       "      <td>0610</td>\n",
       "      <td>BURGLARY</td>\n",
       "      <td>FORCIBLE ENTRY</td>\n",
       "      <td>APARTMENT</td>\n",
       "      <td>False</td>\n",
       "      <td>False</td>\n",
       "      <td>1212</td>\n",
       "      <td>24.0</td>\n",
       "      <td>05</td>\n",
       "      <td>2018</td>\n",
       "    </tr>\n",
       "    <tr>\n",
       "      <td>3</td>\n",
       "      <td>01/28/2018 04:10:00 PM</td>\n",
       "      <td>028XX S STATE ST</td>\n",
       "      <td>0261</td>\n",
       "      <td>CRIM SEXUAL ASSAULT</td>\n",
       "      <td>AGGRAVATED: HANDGUN</td>\n",
       "      <td>CHA APARTMENT</td>\n",
       "      <td>True</td>\n",
       "      <td>False</td>\n",
       "      <td>133</td>\n",
       "      <td>35.0</td>\n",
       "      <td>02</td>\n",
       "      <td>2018</td>\n",
       "    </tr>\n",
       "    <tr>\n",
       "      <td>4</td>\n",
       "      <td>12/24/2018 11:30:00 PM</td>\n",
       "      <td>032XX W CONGRESS PKWY</td>\n",
       "      <td>0820</td>\n",
       "      <td>THEFT</td>\n",
       "      <td>$500 AND UNDER</td>\n",
       "      <td>CTA TRAIN</td>\n",
       "      <td>False</td>\n",
       "      <td>False</td>\n",
       "      <td>1134</td>\n",
       "      <td>27.0</td>\n",
       "      <td>06</td>\n",
       "      <td>2018</td>\n",
       "    </tr>\n",
       "  </tbody>\n",
       "</table>\n",
       "</div>"
      ],
      "text/plain": [
       "                     Date                  Block  IUCR  \\\n",
       "0  09/01/2018 12:00:00 AM  110XX S WENTWORTH AVE  1751   \n",
       "1  06/10/2018 11:00:00 PM    053XX S CALUMET AVE  0281   \n",
       "2  05/12/2018 12:43:00 PM      008XX N HOYNE AVE  0610   \n",
       "3  01/28/2018 04:10:00 PM       028XX S STATE ST  0261   \n",
       "4  12/24/2018 11:30:00 PM  032XX W CONGRESS PKWY  0820   \n",
       "\n",
       "                 Primary Type                   Description  \\\n",
       "0  OFFENSE INVOLVING CHILDREN  CRIM SEX ABUSE BY FAM MEMBER   \n",
       "1         CRIM SEXUAL ASSAULT                NON-AGGRAVATED   \n",
       "2                    BURGLARY                FORCIBLE ENTRY   \n",
       "3         CRIM SEXUAL ASSAULT           AGGRAVATED: HANDGUN   \n",
       "4                       THEFT                $500 AND UNDER   \n",
       "\n",
       "  Location Description  Arrest  Domestic  Beat  Community Area FBI Code  Year  \n",
       "0            APARTMENT   False      True   513            49.0       17  2018  \n",
       "1            APARTMENT   False     False   231            40.0       02  2018  \n",
       "2            APARTMENT   False     False  1212            24.0       05  2018  \n",
       "3        CHA APARTMENT    True     False   133            35.0       02  2018  \n",
       "4            CTA TRAIN   False     False  1134            27.0       06  2018  "
      ]
     },
     "execution_count": 6,
     "metadata": {},
     "output_type": "execute_result"
    }
   ],
   "source": [
    "wine.head()"
   ]
  },
  {
   "cell_type": "code",
   "execution_count": 7,
   "metadata": {},
   "outputs": [],
   "source": [
    "for index, row in wine.iterrows():\n",
    "    if('AIRPORT' in row['Location Description']):\n",
    "        wine.loc[index, 'Location Description'] = 'AIRPORT';\n",
    "    elif('SCHOOL' in row['Location Description']):\n",
    "        wine.loc[index, 'Location Description'] = 'SCHOOL';\n",
    "    elif('COLLEGE/UNIVERSITY' in row['Location Description']):\n",
    "        wine.loc[index, 'Location Description'] = 'SCHOOL';\n",
    "    elif('RESIDENTIAL' in row['Location Description']):\n",
    "        wine.loc[index, 'Location Description'] = 'RESIDENTIAL';\n",
    "    elif('APARTMENT' in row['Location Description']):\n",
    "        wine.loc[index, 'Location Description'] = 'RESIDENTIAL';\n",
    "    elif('RESIDENCE' in row['Location Description']):\n",
    "        wine.loc[index, 'Location Description'] = 'RESIDENTIAL';\n",
    "    elif('CHA' in row['Location Description']):\n",
    "        wine.loc[index, 'Location Description'] = 'RESIDENTIAL';\n",
    "    elif('STORE' in row['Location Description']):\n",
    "        wine.loc[index, 'Location Description'] = 'COMMERCIAL';\n",
    "    elif('BAR' in row['Location Description']):\n",
    "        wine.loc[index, 'Location Description'] = 'COMMERCIAL';\n",
    "    elif('BARBERSHOP' in row['Location Description']):\n",
    "        wine.loc[index, 'Location Description'] = 'COMMERCIAL';\n",
    "    elif('BOWLING' in row['Location Description']):\n",
    "        wine.loc[index, 'Location Description'] = 'COMMERCIAL';\n",
    "    elif('CAR WASH' in row['Location Description']):\n",
    "        wine.loc[index, 'Location Description'] = 'COMMERCIAL';\n",
    "    elif('WORSHIP' in row['Location Description']):\n",
    "        wine.loc[index, 'Location Description'] = 'COMMERCIAL';\n",
    "    elif('COIN' in row['Location Description']):\n",
    "        wine.loc[index, 'Location Description'] = 'COMMERCIAL';\n",
    "    elif('CREDIT' in row['Location Description']):\n",
    "        wine.loc[index, 'Location Description'] = 'COMMERCIAL';\n",
    "    elif('CURRENCY' in row['Location Description']):\n",
    "        wine.loc[index, 'Location Description'] = 'COMMERCIAL';\n",
    "    elif('DAY CARE' in row['Location Description']):\n",
    "        wine.loc[index, 'Location Description'] = 'COMMERCIAL';\n",
    "    elif('GAS STATION' in row['Location Description']):\n",
    "        wine.loc[index, 'Location Description'] = 'COMMERCIAL';\n",
    "    elif('HOTEL/MOTEL' in row['Location Description']):\n",
    "        wine.loc[index, 'Location Description'] = 'COMMERCIAL';\n",
    "    elif('LIBRARY' in row['Location Description']):\n",
    "        wine.loc[index, 'Location Description'] = 'COMMERCIAL';\n",
    "    elif('MOVIE' in row['Location Description']):\n",
    "        wine.loc[index, 'Location Description'] = 'COMMERCIAL';\n",
    "    elif('SHOP' in row['Location Description']):\n",
    "        wine.loc[index, 'Location Description'] = 'COMMERCIAL';\n",
    "    elif('POOL ROOM' in row['Location Description']):\n",
    "        wine.loc[index, 'Location Description'] = 'COMMERCIAL';\n",
    "    elif('RESTAURANT' in row['Location Description']):\n",
    "        wine.loc[index, 'Location Description'] = 'COMMERCIAL';\n",
    "    elif('SAVINGS' in row['Location Description']):\n",
    "        wine.loc[index, 'Location Description'] = 'COMMERCIAL';\n",
    "    elif('SPORTS' in row['Location Description']):\n",
    "        wine.loc[index, 'Location Description'] = 'COMMERCIAL';\n",
    "    elif('WAREHOUSE' in row['Location Description']):\n",
    "        wine.loc[index, 'Location Description'] = 'COMMERCIAL';\n",
    "    elif('DEALERSHIP' in row['Location Description']):\n",
    "        wine.loc[index, 'Location Description'] = 'COMMERCIAL';\n",
    "    elif('BANK' in row['Location Description']):\n",
    "        wine.loc[index, 'Location Description'] = 'COMMERCIAL';\n",
    "    elif('CTA' in row['Location Description']):\n",
    "        wine.loc[index, 'Location Description'] = 'TRANSPORT';\n",
    "    elif('TRANSPORTATION' in row['Location Description']):\n",
    "        wine.loc[index, 'Location Description'] = 'TRANSPORT';\n",
    "    elif('RAILROAD' in row['Location Description']):\n",
    "        wine.loc[index, 'Location Description'] = 'TRANSPORT';\n",
    "    elif('PARKING' in row['Location Description']):\n",
    "        wine.loc[index, 'Location Description'] = 'TRANSPORT';\n",
    "    elif('TAXICAB' in row['Location Description']):\n",
    "        wine.loc[index, 'Location Description'] = 'TRANSPORT';\n",
    "    elif('VEHICLE' in row['Location Description']):\n",
    "        wine.loc[index, 'Location Description'] = 'TRANSPORT';\n",
    "    elif('CONSTRUCTION' in row['Location Description']):\n",
    "        wine.loc[index, 'Location Description'] = 'INDUSTRIAL';\n",
    "    elif('FACTORY/MANUFACTURING' in row['Location Description']):\n",
    "        wine.loc[index, 'Location Description'] = 'INDUSTRIAL';\n",
    "    elif('WAREHOUSE' in row['Location Description']):\n",
    "        wine.loc[index, 'Location Description'] = 'INDUSTRIAL';\n",
    "    elif('ABANDONED' in row['Location Description']):\n",
    "        wine.loc[index, 'Location Description'] = 'INDUSTRIAL';\n",
    "    elif('HOSPITAL' in row['Location Description']):\n",
    "        wine.loc[index, 'Location Description'] = 'GOVERNMENT';\n",
    "    elif('CEMETARY' in row['Location Description']):\n",
    "        wine.loc[index, 'Location Description'] = 'GOVERNMENT';\n",
    "    elif('FEDERAL' in row['Location Description']):\n",
    "        wine.loc[index, 'Location Description'] = 'GOVERNMENT';\n",
    "    elif('FIRE' in row['Location Description']):\n",
    "        wine.loc[index, 'Location Description'] = 'GOVERNMENT';\n",
    "    elif('POLICE' in row['Location Description']):\n",
    "        wine.loc[index, 'Location Description'] = 'GOVERNMENT';\n",
    "    elif('JAIL' in row['Location Description']):\n",
    "        wine.loc[index, 'Location Description'] = 'GOVERNMENT';\n",
    "    elif('GOVERNMENT' in row['Location Description']):\n",
    "        wine.loc[index, 'Location Description'] = 'GOVERNMENT';\n",
    "    elif('MEDICAL/DENTAL' in row['Location Description']):\n",
    "        wine.loc[index, 'Location Description'] = 'GOVERNMENT';\n",
    "    elif('NURSING' in row['Location Description']):\n",
    "        wine.loc[index, 'Location Description'] = 'GOVERNMENT';\n",
    "    elif('NURSING' in row['Location Description']):\n",
    "        wine.loc[index, 'Location Description'] = 'GOVERNMENT';\n",
    "    else:\n",
    "        wine.loc[index, 'Location Description'] = 'OTHER';\n",
    "         "
   ]
  },
  {
   "cell_type": "code",
   "execution_count": 8,
   "metadata": {},
   "outputs": [],
   "source": [
    "#Encoder to convert string values\n",
    "le = LabelEncoder()"
   ]
  },
  {
   "cell_type": "code",
   "execution_count": 9,
   "metadata": {},
   "outputs": [
    {
     "name": "stdout",
     "output_type": "stream",
     "text": [
      "<class 'pandas.core.frame.DataFrame'>\n",
      "Int64Index: 39668 entries, 0 to 39999\n",
      "Data columns (total 12 columns):\n",
      "Date                    39668 non-null object\n",
      "Block                   39668 non-null object\n",
      "IUCR                    39668 non-null object\n",
      "Primary Type            39668 non-null object\n",
      "Description             39668 non-null object\n",
      "Location Description    39668 non-null object\n",
      "Arrest                  39668 non-null bool\n",
      "Domestic                39668 non-null bool\n",
      "Beat                    39668 non-null int64\n",
      "Community Area          39668 non-null float64\n",
      "FBI Code                39668 non-null object\n",
      "Year                    39668 non-null int64\n",
      "dtypes: bool(2), float64(1), int64(2), object(7)\n",
      "memory usage: 4.7+ MB\n"
     ]
    }
   ],
   "source": [
    "wine.info()"
   ]
  },
  {
   "cell_type": "code",
   "execution_count": 10,
   "metadata": {},
   "outputs": [
    {
     "data": {
      "text/html": [
       "<div>\n",
       "<style scoped>\n",
       "    .dataframe tbody tr th:only-of-type {\n",
       "        vertical-align: middle;\n",
       "    }\n",
       "\n",
       "    .dataframe tbody tr th {\n",
       "        vertical-align: top;\n",
       "    }\n",
       "\n",
       "    .dataframe thead th {\n",
       "        text-align: right;\n",
       "    }\n",
       "</style>\n",
       "<table border=\"1\" class=\"dataframe\">\n",
       "  <thead>\n",
       "    <tr style=\"text-align: right;\">\n",
       "      <th></th>\n",
       "      <th>Date</th>\n",
       "      <th>Block</th>\n",
       "      <th>IUCR</th>\n",
       "      <th>Primary Type</th>\n",
       "      <th>Description</th>\n",
       "      <th>Arrest</th>\n",
       "      <th>Domestic</th>\n",
       "      <th>Beat</th>\n",
       "      <th>Community Area</th>\n",
       "      <th>FBI Code</th>\n",
       "      <th>Year</th>\n",
       "    </tr>\n",
       "  </thead>\n",
       "  <tbody>\n",
       "    <tr>\n",
       "      <td>0</td>\n",
       "      <td>18979</td>\n",
       "      <td>14804</td>\n",
       "      <td>165</td>\n",
       "      <td>20</td>\n",
       "      <td>78</td>\n",
       "      <td>0</td>\n",
       "      <td>1</td>\n",
       "      <td>513</td>\n",
       "      <td>49.0</td>\n",
       "      <td>19</td>\n",
       "      <td>2018</td>\n",
       "    </tr>\n",
       "    <tr>\n",
       "      <td>1</td>\n",
       "      <td>17933</td>\n",
       "      <td>10241</td>\n",
       "      <td>10</td>\n",
       "      <td>5</td>\n",
       "      <td>146</td>\n",
       "      <td>0</td>\n",
       "      <td>0</td>\n",
       "      <td>231</td>\n",
       "      <td>40.0</td>\n",
       "      <td>2</td>\n",
       "      <td>2018</td>\n",
       "    </tr>\n",
       "    <tr>\n",
       "      <td>2</td>\n",
       "      <td>17687</td>\n",
       "      <td>2004</td>\n",
       "      <td>65</td>\n",
       "      <td>3</td>\n",
       "      <td>104</td>\n",
       "      <td>0</td>\n",
       "      <td>0</td>\n",
       "      <td>1212</td>\n",
       "      <td>24.0</td>\n",
       "      <td>6</td>\n",
       "      <td>2018</td>\n",
       "    </tr>\n",
       "    <tr>\n",
       "      <td>3</td>\n",
       "      <td>8272</td>\n",
       "      <td>6310</td>\n",
       "      <td>2</td>\n",
       "      <td>5</td>\n",
       "      <td>27</td>\n",
       "      <td>1</td>\n",
       "      <td>0</td>\n",
       "      <td>133</td>\n",
       "      <td>35.0</td>\n",
       "      <td>2</td>\n",
       "      <td>2018</td>\n",
       "    </tr>\n",
       "    <tr>\n",
       "      <td>4</td>\n",
       "      <td>20830</td>\n",
       "      <td>7062</td>\n",
       "      <td>70</td>\n",
       "      <td>27</td>\n",
       "      <td>0</td>\n",
       "      <td>0</td>\n",
       "      <td>0</td>\n",
       "      <td>1134</td>\n",
       "      <td>27.0</td>\n",
       "      <td>7</td>\n",
       "      <td>2018</td>\n",
       "    </tr>\n",
       "  </tbody>\n",
       "</table>\n",
       "</div>"
      ],
      "text/plain": [
       "    Date  Block  IUCR  Primary Type  Description  Arrest  Domestic  Beat  \\\n",
       "0  18979  14804   165            20           78       0         1   513   \n",
       "1  17933  10241    10             5          146       0         0   231   \n",
       "2  17687   2004    65             3          104       0         0  1212   \n",
       "3   8272   6310     2             5           27       1         0   133   \n",
       "4  20830   7062    70            27            0       0         0  1134   \n",
       "\n",
       "   Community Area  FBI Code  Year  \n",
       "0            49.0        19  2018  \n",
       "1            40.0         2  2018  \n",
       "2            24.0         6  2018  \n",
       "3            35.0         2  2018  \n",
       "4            27.0         7  2018  "
      ]
     },
     "execution_count": 10,
     "metadata": {},
     "output_type": "execute_result"
    }
   ],
   "source": [
    "X = wine.drop('Location Description', axis = 1)\n",
    "y = wine['Location Description']\n",
    "def dummyEncode(df):\n",
    "          columnsToEncode = list(df.select_dtypes(include=['category','object','bool']))\n",
    "          le = LabelEncoder()\n",
    "          for feature in columnsToEncode:\n",
    "              try:\n",
    "                  df[feature] = le.fit_transform(df[feature])\n",
    "              except:\n",
    "                  print('Error encoding '+feature)\n",
    "          return df\n",
    "    \n",
    "X = dummyEncode(X)\n",
    "X.head()"
   ]
  },
  {
   "cell_type": "code",
   "execution_count": 11,
   "metadata": {},
   "outputs": [],
   "source": [
    "X_train, X_test, y_train, y_test = train_test_split(X, y, test_size = 0.2, random_state = 42)"
   ]
  },
  {
   "cell_type": "code",
   "execution_count": 12,
   "metadata": {},
   "outputs": [],
   "source": [
    "sc = StandardScaler()\n",
    "X_train = sc.fit_transform(X_train)\n",
    "X_test = sc.transform(X_test)"
   ]
  },
  {
   "cell_type": "code",
   "execution_count": 13,
   "metadata": {},
   "outputs": [
    {
     "data": {
      "text/plain": [
       "array([[ 0.04038089,  1.17328512, -1.41319087,  0.99675745, -1.23466052,\n",
       "        -0.52764681, -0.43513346, -1.16371894,  0.31864576, -1.36277026,\n",
       "         0.        ],\n",
       "       [ 1.1265009 ,  1.34245342,  0.46122072, -0.74479818,  1.20629653,\n",
       "         1.89520715,  2.29814549, -0.7496874 ,  0.36502362,  0.67977354,\n",
       "         0.        ],\n",
       "       [-0.53988927, -0.5146678 , -0.68818261, -1.22856363,  0.74198405,\n",
       "        -0.52764681, -0.43513346, -1.05028564,  0.41140148, -0.42005774,\n",
       "         0.        ],\n",
       "       [-1.11287352, -0.27813936,  1.38074338,  0.60974508,  0.34400192,\n",
       "        -0.52764681, -0.43513346, -0.17259549, -0.28426645,  1.62248607,\n",
       "         0.        ],\n",
       "       [ 1.67780092,  0.37900596,  1.80513846,  0.31948581,  0.59605727,\n",
       "         1.89520715, -0.43513346, -0.05916219, -0.60891149,  1.30824856,\n",
       "         0.        ],\n",
       "       [-1.2332644 , -0.83654833, -1.34245836,  0.99675745,  1.03383761,\n",
       "        -0.52764681, -0.43513346,  1.95853261, -0.60891149, -1.36277026,\n",
       "         0.        ],\n",
       "       [ 0.52020966,  1.37646261, -0.8650139 , -1.13181054, -0.57135697,\n",
       "         1.89520715,  2.29814549, -0.75394115,  1.61722591, -0.26293898,\n",
       "         0.        ],\n",
       "       [ 1.13153164, -0.76392225, -0.8650139 , -1.13181054, -0.57135697,\n",
       "        -0.52764681,  2.29814549, -0.76670239,  1.61722591, -0.26293898,\n",
       "         0.        ],\n",
       "       [ 1.04236606, -0.53134327, -0.40525256,  1.28701672,  0.41033227,\n",
       "         1.89520715, -0.43513346,  1.5033815 ,  1.66360377, -0.73429524,\n",
       "         0.        ],\n",
       "       [-0.20109476, -0.85585677, -0.40525256,  1.28701672,  0.41033227,\n",
       "        -0.52764681, -0.43513346, -1.30267473,  0.22589003, -0.73429524,\n",
       "         0.        ]])"
      ]
     },
     "execution_count": 13,
     "metadata": {},
     "output_type": "execute_result"
    }
   ],
   "source": [
    "X_train[:10]"
   ]
  },
  {
   "cell_type": "code",
   "execution_count": 16,
   "metadata": {},
   "outputs": [],
   "source": [
    "#Neural Network\n",
    "mlpc = MLPClassifier(hidden_layer_sizes = (11,11,11), max_iter = 1000)\n",
    "mlpc.fit(X_train, y_train)\n",
    "pred_mlpc = mlpc.predict(X_test)"
   ]
  },
  {
   "cell_type": "code",
   "execution_count": 17,
   "metadata": {
    "scrolled": false
   },
   "outputs": [
    {
     "name": "stdout",
     "output_type": "stream",
     "text": [
      "              precision    recall  f1-score   support\n",
      "\n",
      "     AIRPORT       0.32      0.22      0.26        45\n",
      "  COMMERCIAL       0.64      0.49      0.56      1171\n",
      "  GOVERNMENT       1.00      0.04      0.09       112\n",
      "  INDUSTRIAL       0.00      0.00      0.00        19\n",
      "       OTHER       0.55      0.76      0.64      2720\n",
      " RESIDENTIAL       0.69      0.73      0.71      2975\n",
      "      SCHOOL       0.60      0.15      0.24       182\n",
      "   TRANSPORT       0.49      0.03      0.05       710\n",
      "\n",
      "    accuracy                           0.61      7934\n",
      "   macro avg       0.54      0.30      0.32      7934\n",
      "weighted avg       0.62      0.61      0.58      7934\n",
      "\n",
      "[[  10    9    0    0   18    8    0    0]\n",
      " [   1  575    0    0  315  268    3    9]\n",
      " [   0   28    5    0   52   24    3    0]\n",
      " [   0    3    0    0    5   10    0    1]\n",
      " [   6  129    0    0 2077  494    5    9]\n",
      " [  10   99    0    0  701 2160    4    1]\n",
      " [   0   14    0    0   87   53   28    0]\n",
      " [   4   43    0    0  546   94    4   19]]\n",
      "0.6143181245273507\n"
     ]
    },
    {
     "name": "stderr",
     "output_type": "stream",
     "text": [
      "C:\\Users\\kevin\\Anaconda3\\lib\\site-packages\\sklearn\\metrics\\classification.py:1437: UndefinedMetricWarning: Precision and F-score are ill-defined and being set to 0.0 in labels with no predicted samples.\n",
      "  'precision', 'predicted', average, warn_for)\n"
     ]
    },
    {
     "data": {
      "text/plain": [
       "<matplotlib.axes._subplots.AxesSubplot at 0x220c12bc908>"
      ]
     },
     "execution_count": 17,
     "metadata": {},
     "output_type": "execute_result"
    },
    {
     "data": {
      "image/png": "[encoded data removed]",
      "text/plain": [
       "<Figure size 432x288 with 1 Axes>"
      ]
     },
     "metadata": {
      "needs_background": "light"
     },
     "output_type": "display_data"
    }
   ],
   "source": [
    "#Lets see how our model preformed\n",
    "print(classification_report(y_test, pred_mlpc)) #Shows accuracy of model\n",
    "print(confusion_matrix(y_test, pred_mlpc))\n",
    "print(accuracy_score(y_test, pred_mlpc))\n",
    "sns.countplot(pred_mlpc)"
   ]
  },
  {
   "cell_type": "code",
   "execution_count": null,
   "metadata": {},
   "outputs": [],
   "source": []
  }
 ],
 "metadata": {
  "kernelspec": {
   "display_name": "Python 3",
   "language": "python",
   "name": "python3"
  },
  "language_info": {
   "codemirror_mode": {
    "name": "ipython",
    "version": 3
   },
   "file_extension": ".py",
   "mimetype": "text/x-python",
   "name": "python",
   "nbconvert_exporter": "python",
   "pygments_lexer": "ipython3",
   "version": "3.7.4"
  }
 },
 "nbformat": 4,
 "nbformat_minor": 2
}
