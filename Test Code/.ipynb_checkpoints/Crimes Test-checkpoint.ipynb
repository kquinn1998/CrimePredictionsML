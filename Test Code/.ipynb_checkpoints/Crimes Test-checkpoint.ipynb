{
 "cells": [
  {
   "cell_type": "code",
   "execution_count": 1,
   "metadata": {},
   "outputs": [],
   "source": [
    "import pandas as pd\n",
    "import seaborn as sns\n",
    "import matplotlib.pyplot as plt\n",
    "from sklearn.ensemble import RandomForestClassifier\n",
    "from sklearn.svm import SVC\n",
    "from sklearn import svm\n",
    "from sklearn.neural_network import MLPClassifier\n",
    "from sklearn.metrics import confusion_matrix, classification_report, accuracy_score\n",
    "from sklearn.preprocessing import StandardScaler, LabelEncoder\n",
    "from sklearn.model_selection import train_test_split\n",
    "%matplotlib inline"
   ]
  },
  {
   "cell_type": "code",
   "execution_count": 2,
   "metadata": {},
   "outputs": [],
   "source": [
    "wine = pd.read_csv('crimes2018.csv',sep=',',low_memory=False)\n",
    "wine = wine[:40000]\n",
    "wine = wine.drop('ID',axis = 1)\n",
    "wine = wine.drop('Case Number',axis = 1)\n",
    "wine = wine.drop('District',axis = 1)\n",
    "wine = wine.drop('Ward',axis = 1)\n",
    "wine = wine.drop('X Coordinate',axis = 1)\n",
    "wine = wine.drop('Y Coordinate',axis = 1)\n",
    "wine = wine.drop('Updated On',axis = 1)\n",
    "wine = wine.drop('Longitude',axis = 1)\n",
    "wine = wine.drop('Latitude',axis = 1)\n",
    "wine = wine.drop('Location',axis = 1)"
   ]
  },
  {
   "cell_type": "code",
   "execution_count": 3,
   "metadata": {},
   "outputs": [
    {
     "data": {
      "text/plain": [
       "Date                      0\n",
       "Block                     0\n",
       "IUCR                      0\n",
       "Primary Type              0\n",
       "Description               0\n",
       "Location Description    332\n",
       "Arrest                    0\n",
       "Domestic                  0\n",
       "Beat                      0\n",
       "Community Area            0\n",
       "FBI Code                  0\n",
       "Year                      0\n",
       "dtype: int64"
      ]
     },
     "execution_count": 3,
     "metadata": {},
     "output_type": "execute_result"
    }
   ],
   "source": [
    "wine.isnull().sum()"
   ]
  },
  {
   "cell_type": "code",
   "execution_count": 4,
   "metadata": {},
   "outputs": [],
   "source": [
    "wine = wine.dropna()"
   ]
  },
  {
   "cell_type": "code",
   "execution_count": 5,
   "metadata": {},
   "outputs": [
    {
     "data": {
      "text/plain": [
       "Date                    0\n",
       "Block                   0\n",
       "IUCR                    0\n",
       "Primary Type            0\n",
       "Description             0\n",
       "Location Description    0\n",
       "Arrest                  0\n",
       "Domestic                0\n",
       "Beat                    0\n",
       "Community Area          0\n",
       "FBI Code                0\n",
       "Year                    0\n",
       "dtype: int64"
      ]
     },
     "execution_count": 5,
     "metadata": {},
     "output_type": "execute_result"
    }
   ],
   "source": [
    "wine.isnull().sum()"
   ]
  },
  {
   "cell_type": "code",
   "execution_count": 6,
   "metadata": {},
   "outputs": [
    {
     "data": {
      "text/html": [
       "<div>\n",
       "<style scoped>\n",
       "    .dataframe tbody tr th:only-of-type {\n",
       "        vertical-align: middle;\n",
       "    }\n",
       "\n",
       "    .dataframe tbody tr th {\n",
       "        vertical-align: top;\n",
       "    }\n",
       "\n",
       "    .dataframe thead th {\n",
       "        text-align: right;\n",
       "    }\n",
       "</style>\n",
       "<table border=\"1\" class=\"dataframe\">\n",
       "  <thead>\n",
       "    <tr style=\"text-align: right;\">\n",
       "      <th></th>\n",
       "      <th>Date</th>\n",
       "      <th>Block</th>\n",
       "      <th>IUCR</th>\n",
       "      <th>Primary Type</th>\n",
       "      <th>Description</th>\n",
       "      <th>Location Description</th>\n",
       "      <th>Arrest</th>\n",
       "      <th>Domestic</th>\n",
       "      <th>Beat</th>\n",
       "      <th>Community Area</th>\n",
       "      <th>FBI Code</th>\n",
       "      <th>Year</th>\n",
       "    </tr>\n",
       "  </thead>\n",
       "  <tbody>\n",
       "    <tr>\n",
       "      <td>0</td>\n",
       "      <td>09/01/2018 12:00:00 AM</td>\n",
       "      <td>110XX S WENTWORTH AVE</td>\n",
       "      <td>1751</td>\n",
       "      <td>OFFENSE INVOLVING CHILDREN</td>\n",
       "      <td>CRIM SEX ABUSE BY FAM MEMBER</td>\n",
       "      <td>APARTMENT</td>\n",
       "      <td>False</td>\n",
       "      <td>True</td>\n",
       "      <td>513</td>\n",
       "      <td>49.0</td>\n",
       "      <td>17</td>\n",
       "      <td>2018</td>\n",
       "    </tr>\n",
       "    <tr>\n",
       "      <td>1</td>\n",
       "      <td>06/10/2018 11:00:00 PM</td>\n",
       "      <td>053XX S CALUMET AVE</td>\n",
       "      <td>0281</td>\n",
       "      <td>CRIM SEXUAL ASSAULT</td>\n",
       "      <td>NON-AGGRAVATED</td>\n",
       "      <td>APARTMENT</td>\n",
       "      <td>False</td>\n",
       "      <td>False</td>\n",
       "      <td>231</td>\n",
       "      <td>40.0</td>\n",
       "      <td>02</td>\n",
       "      <td>2018</td>\n",
       "    </tr>\n",
       "    <tr>\n",
       "      <td>2</td>\n",
       "      <td>05/12/2018 12:43:00 PM</td>\n",
       "      <td>008XX N HOYNE AVE</td>\n",
       "      <td>0610</td>\n",
       "      <td>BURGLARY</td>\n",
       "      <td>FORCIBLE ENTRY</td>\n",
       "      <td>APARTMENT</td>\n",
       "      <td>False</td>\n",
       "      <td>False</td>\n",
       "      <td>1212</td>\n",
       "      <td>24.0</td>\n",
       "      <td>05</td>\n",
       "      <td>2018</td>\n",
       "    </tr>\n",
       "    <tr>\n",
       "      <td>3</td>\n",
       "      <td>01/28/2018 04:10:00 PM</td>\n",
       "      <td>028XX S STATE ST</td>\n",
       "      <td>0261</td>\n",
       "      <td>CRIM SEXUAL ASSAULT</td>\n",
       "      <td>AGGRAVATED: HANDGUN</td>\n",
       "      <td>CHA APARTMENT</td>\n",
       "      <td>True</td>\n",
       "      <td>False</td>\n",
       "      <td>133</td>\n",
       "      <td>35.0</td>\n",
       "      <td>02</td>\n",
       "      <td>2018</td>\n",
       "    </tr>\n",
       "    <tr>\n",
       "      <td>4</td>\n",
       "      <td>12/24/2018 11:30:00 PM</td>\n",
       "      <td>032XX W CONGRESS PKWY</td>\n",
       "      <td>0820</td>\n",
       "      <td>THEFT</td>\n",
       "      <td>$500 AND UNDER</td>\n",
       "      <td>CTA TRAIN</td>\n",
       "      <td>False</td>\n",
       "      <td>False</td>\n",
       "      <td>1134</td>\n",
       "      <td>27.0</td>\n",
       "      <td>06</td>\n",
       "      <td>2018</td>\n",
       "    </tr>\n",
       "  </tbody>\n",
       "</table>\n",
       "</div>"
      ],
      "text/plain": [
       "                     Date                  Block  IUCR  \\\n",
       "0  09/01/2018 12:00:00 AM  110XX S WENTWORTH AVE  1751   \n",
       "1  06/10/2018 11:00:00 PM    053XX S CALUMET AVE  0281   \n",
       "2  05/12/2018 12:43:00 PM      008XX N HOYNE AVE  0610   \n",
       "3  01/28/2018 04:10:00 PM       028XX S STATE ST  0261   \n",
       "4  12/24/2018 11:30:00 PM  032XX W CONGRESS PKWY  0820   \n",
       "\n",
       "                 Primary Type                   Description  \\\n",
       "0  OFFENSE INVOLVING CHILDREN  CRIM SEX ABUSE BY FAM MEMBER   \n",
       "1         CRIM SEXUAL ASSAULT                NON-AGGRAVATED   \n",
       "2                    BURGLARY                FORCIBLE ENTRY   \n",
       "3         CRIM SEXUAL ASSAULT           AGGRAVATED: HANDGUN   \n",
       "4                       THEFT                $500 AND UNDER   \n",
       "\n",
       "  Location Description  Arrest  Domestic  Beat  Community Area FBI Code  Year  \n",
       "0            APARTMENT   False      True   513            49.0       17  2018  \n",
       "1            APARTMENT   False     False   231            40.0       02  2018  \n",
       "2            APARTMENT   False     False  1212            24.0       05  2018  \n",
       "3        CHA APARTMENT    True     False   133            35.0       02  2018  \n",
       "4            CTA TRAIN   False     False  1134            27.0       06  2018  "
      ]
     },
     "execution_count": 6,
     "metadata": {},
     "output_type": "execute_result"
    }
   ],
   "source": [
    "wine.head()"
   ]
  },
  {
   "cell_type": "code",
   "execution_count": 7,
   "metadata": {},
   "outputs": [
    {
     "ename": "SyntaxError",
     "evalue": "invalid syntax (<ipython-input-7-432bab3e15b5>, line 4)",
     "output_type": "error",
     "traceback": [
      "\u001b[1;36m  File \u001b[1;32m\"<ipython-input-7-432bab3e15b5>\"\u001b[1;36m, line \u001b[1;32m4\u001b[0m\n\u001b[1;33m    else if('SCHOOL' in row['Location Description']):\u001b[0m\n\u001b[1;37m          ^\u001b[0m\n\u001b[1;31mSyntaxError\u001b[0m\u001b[1;31m:\u001b[0m invalid syntax\n"
     ]
    }
   ],
   "source": [
    "for index, row in wine.iterrows():\n",
    "    if('AIRPORT' in row['Location Description']):\n",
    "        wine.loc[index, 'Location Description'] = 'AIRPORT';\n",
    "    else if('SCHOOL' in row['Location Description']):\n",
    "        wine.loc[index, 'Location Description'] = 'SCHOOL';\n",
    "    else if('COLLEGE/UNIVERSITY' in row['Location Description']):\n",
    "        wine.loc[index, 'Location Description'] = 'SCHOOL';\n",
    "    else if('RESIDENTIAL' in row['Location Description']):\n",
    "        wine.loc[index, 'Location Description'] = 'RESIDENTIAL';\n",
    "    else if('APARTMENT' in row['Location Description']):\n",
    "        wine.loc[index, 'Location Description'] = 'RESIDENTIAL';\n",
    "    else if('RESIDENCE' in row['Location Description']):\n",
    "        wine.loc[index, 'Location Description'] = 'RESIDENTIAL';\n",
    "    else if('CHA' in row['Location Description']):\n",
    "        wine.loc[index, 'Location Description'] = 'RESIDENTIAL';\n",
    "    else if('STORE' in row['Location Description']):\n",
    "        wine.loc[index, 'Location Description'] = 'COMMERCIAL';\n",
    "    else ielse f('BAR' in row['Location Description']):\n",
    "        wine.loc[index, 'Location Description'] = 'COMMERCIAL';\n",
    "    else if('BARBERSHOP' in row['Location Description']):\n",
    "        wine.loc[index, 'Location Description'] = 'COMMERCIAL';\n",
    "    else if('BOWLING' in row['Location Description']):\n",
    "        wine.loc[index, 'Location Description'] = 'COMMERCIAL';\n",
    "    else if('CAR WASH' in row['Location Description']):\n",
    "        wine.loc[index, 'Location Description'] = 'COMMERCIAL';\n",
    "    else if('WORSHIP' in row['Location Description']):\n",
    "        wine.loc[index, 'Location Description'] = 'COMMERCIAL';\n",
    "    else if('COIN' in row['Location Description']):\n",
    "        wine.loc[index, 'Location Description'] = 'COMMERCIAL';\n",
    "    else if('CREDIT' in row['Location Description']):\n",
    "        wine.loc[index, 'Location Description'] = 'COMMERCIAL';\n",
    "    else if('CURRENCY' in row['Location Description']):\n",
    "        wine.loc[index, 'Location Description'] = 'COMMERCIAL';\n",
    "    else if('DAY CARE' in row['Location Description']):\n",
    "        wine.loc[index, 'Location Description'] = 'COMMERCIAL';\n",
    "    else if('GAS STATION' in row['Location Description']):\n",
    "        wine.loc[index, 'Location Description'] = 'COMMERCIAL';\n",
    "    else if('HOTEL/MOTEL' in row['Location Description']):\n",
    "        wine.loc[index, 'Location Description'] = 'COMMERCIAL';\n",
    "    else if('LIBRARY' in row['Location Description']):\n",
    "        wine.loc[index, 'Location Description'] = 'COMMERCIAL';\n",
    "    else if('MOVIE' in row['Location Description']):\n",
    "        wine.loc[index, 'Location Description'] = 'COMMERCIAL';\n",
    "    else if('SHOP' in row['Location Description']):\n",
    "        wine.loc[index, 'Location Description'] = 'COMMERCIAL';\n",
    "    else if('POOL ROOM' in row['Location Description']):\n",
    "        wine.loc[index, 'Location Description'] = 'COMMERCIAL';\n",
    "    else if('RESTAURANT' in row['Location Description']):\n",
    "        wine.loc[index, 'Location Description'] = 'COMMERCIAL';\n",
    "    else if('SAVINGS' in row['Location Description']):\n",
    "        wine.loc[index, 'Location Description'] = 'COMMERCIAL';\n",
    "    else if('SPORTS' in row['Location Description']):\n",
    "        wine.loc[index, 'Location Description'] = 'COMMERCIAL';\n",
    "    else if('WAREHOUSE' in row['Location Description']):\n",
    "        wine.loc[index, 'Location Description'] = 'COMMERCIAL';\n",
    "    else if('DEALERSHIP' in row['Location Description']):\n",
    "        wine.loc[index, 'Location Description'] = 'COMMERCIAL';\n",
    "    else if('BANK' in row['Location Description']):\n",
    "        wine.loc[index, 'Location Description'] = 'COMMERCIAL';\n",
    "    else if('CTA' in row['Location Description']):\n",
    "        wine.loc[index, 'Location Description'] = 'TRANSPORT';\n",
    "    else if('TRANSPORTATION' in row['Location Description']):\n",
    "        wine.loc[index, 'Location Description'] = 'TRANSPORT';\n",
    "    else if('RAILROAD' in row['Location Description']):\n",
    "        wine.loc[index, 'Location Description'] = 'TRANSPORT';\n",
    "    else if('PARKING' in row['Location Description']):\n",
    "        wine.loc[index, 'Location Description'] = 'TRANSPORT';\n",
    "    else if('TAXICAB' in row['Location Description']):\n",
    "        wine.loc[index, 'Location Description'] = 'TRANSPORT';\n",
    "    else if('VEHICLE' in row['Location Description']):\n",
    "        wine.loc[index, 'Location Description'] = 'TRANSPORT';\n",
    "    else if('CONSTRUCTION' in row['Location Description']):\n",
    "        wine.loc[index, 'Location Description'] = 'INDUSTRIAL';\n",
    "    else if('FACTORY/MANUFACTURING' in row['Location Description']):\n",
    "        wine.loc[index, 'Location Description'] = 'INDUSTRIAL';\n",
    "    else if('WAREHOUSE' in row['Location Description']):\n",
    "        wine.loc[index, 'Location Description'] = 'INDUSTRIAL';\n",
    "    else if('ABANDONED' in row['Location Description']):\n",
    "        wine.loc[index, 'Location Description'] = 'INDUSTRIAL';\n",
    "    else if('HOSPITAL' in row['Location Description']):\n",
    "        wine.loc[index, 'Location Description'] = 'GOVERNMENT';\n",
    "    else if('CEMETARY' in row['Location Description']):\n",
    "        wine.loc[index, 'Location Description'] = 'GOVERNMENT';\n",
    "    else if('FEDERAL' in row['Location Description']):\n",
    "        wine.loc[index, 'Location Description'] = 'GOVERNMENT';\n",
    "    else if('FIRE' in row['Location Description']):\n",
    "        wine.loc[index, 'Location Description'] = 'GOVERNMENT';\n",
    "    else if('POLICE' in row['Location Description']):\n",
    "        wine.loc[index, 'Location Description'] = 'GOVERNMENT';\n",
    "    else if('JAIL' in row['Location Description']):\n",
    "        wine.loc[index, 'Location Description'] = 'GOVERNMENT';\n",
    "    else if('GOVERNMENT' in row['Location Description']):\n",
    "        wine.loc[index, 'Location Description'] = 'GOVERNMENT';\n",
    "    else if('MEDICAL/DENTAL' in row['Location Description']):\n",
    "        wine.loc[index, 'Location Description'] = 'GOVERNMENT';\n",
    "    else if('NURSING' in row['Location Description']):\n",
    "        wine.loc[index, 'Location Description'] = 'GOVERNMENT';\n",
    "    else if('NURSING' in row['Location Description']):\n",
    "        wine.loc[index, 'Location Description'] = 'GOVERNMENT';\n",
    "    else:\n",
    "        wine.loc[index, 'Location Description'] = 'OTHER';\n",
    "         "
   ]
  },
  {
   "cell_type": "code",
   "execution_count": null,
   "metadata": {},
   "outputs": [],
   "source": [
    "#Encoder to convert string values\n",
    "le = LabelEncoder()"
   ]
  },
  {
   "cell_type": "code",
   "execution_count": null,
   "metadata": {},
   "outputs": [],
   "source": [
    "wine.info()"
   ]
  },
  {
   "cell_type": "code",
   "execution_count": null,
   "metadata": {},
   "outputs": [],
   "source": [
    "X = wine.drop('Location Description', axis = 1)\n",
    "y = wine['Location Description']\n",
    "def dummyEncode(df):\n",
    "          columnsToEncode = list(df.select_dtypes(include=['category','object','bool']))\n",
    "          le = LabelEncoder()\n",
    "          for feature in columnsToEncode:\n",
    "              try:\n",
    "                  df[feature] = le.fit_transform(df[feature])\n",
    "              except:\n",
    "                  print('Error encoding '+feature)\n",
    "          return df\n",
    "    \n",
    "X = dummyEncode(X)\n",
    "X.head()"
   ]
  },
  {
   "cell_type": "code",
   "execution_count": null,
   "metadata": {},
   "outputs": [],
   "source": [
    "X_train, X_test, y_train, y_test = train_test_split(X, y, test_size = 0.2, random_state = 42)"
   ]
  },
  {
   "cell_type": "code",
   "execution_count": null,
   "metadata": {},
   "outputs": [],
   "source": [
    "sc = StandardScaler()\n",
    "X_train = sc.fit_transform(X_train)\n",
    "X_test = sc.transform(X_test)"
   ]
  },
  {
   "cell_type": "code",
   "execution_count": null,
   "metadata": {},
   "outputs": [],
   "source": [
    "X_train[:10]"
   ]
  },
  {
   "cell_type": "code",
   "execution_count": null,
   "metadata": {},
   "outputs": [],
   "source": [
    "#Neural Network\n",
    "mlpc = MLPClassifier(hidden_layer_sizes = (11,11,11), max_iter = 1750)\n",
    "mlpc.fit(X_train, y_train)\n",
    "pred_mlpc = mlpc.predict(X_test)"
   ]
  },
  {
   "cell_type": "code",
   "execution_count": null,
   "metadata": {
    "scrolled": false
   },
   "outputs": [],
   "source": [
    "#Lets see how our model preformed\n",
    "print(classification_report(y_test, pred_mlpc)) #Shows accuracy of model\n",
    "print(confusion_matrix(y_test, pred_mlpc))\n",
    "print(accuracy_score(y_test, pred_mlpc))\n",
    "sns.countplot(pred_mlpc)"
   ]
  },
  {
   "cell_type": "code",
   "execution_count": null,
   "metadata": {},
   "outputs": [],
   "source": []
  }
 ],
 "metadata": {
  "kernelspec": {
   "display_name": "Python 3",
   "language": "python",
   "name": "python3"
  },
  "language_info": {
   "codemirror_mode": {
    "name": "ipython",
    "version": 3
   },
   "file_extension": ".py",
   "mimetype": "text/x-python",
   "name": "python",
   "nbconvert_exporter": "python",
   "pygments_lexer": "ipython3",
   "version": "3.7.4"
  }
 },
 "nbformat": 4,
 "nbformat_minor": 2
}
